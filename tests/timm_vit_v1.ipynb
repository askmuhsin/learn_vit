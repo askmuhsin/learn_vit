{
 "cells": [
  {
   "cell_type": "code",
   "execution_count": 1,
   "id": "8d94fc5e-777c-4a60-8a1d-7b384dd9d697",
   "metadata": {},
   "outputs": [],
   "source": [
    "%load_ext autoreload\n",
    "%autoreload 2"
   ]
  },
  {
   "cell_type": "code",
   "execution_count": 2,
   "id": "920c1059-db3e-43df-b8e3-f650182ef27e",
   "metadata": {},
   "outputs": [],
   "source": [
    "import os\n",
    "import sys\n",
    "\n",
    "sys.path.append(os.path.abspath('../'))"
   ]
  },
  {
   "cell_type": "code",
   "execution_count": 3,
   "id": "2170ae54-7ca5-44c9-ad47-994b83f36839",
   "metadata": {},
   "outputs": [],
   "source": [
    "import timm\n",
    "\n",
    "import torch\n",
    "import torchvision\n",
    "import torchvision.transforms as transforms\n",
    "\n",
    "import torchmetrics\n",
    "import pytorch_lightning as pl\n",
    "from pytorch_lightning import Trainer, seed_everything\n",
    "from pytorch_lightning.callbacks import ModelCheckpoint"
   ]
  },
  {
   "cell_type": "code",
   "execution_count": 8,
   "id": "dda85473-d63f-4438-859c-93938d1b920f",
   "metadata": {},
   "outputs": [],
   "source": [
    "from my_trainer.datasets import cifar_10"
   ]
  },
  {
   "cell_type": "code",
   "execution_count": 4,
   "id": "d7087a61-8fdb-49fb-9fbf-a40648c0ac4f",
   "metadata": {},
   "outputs": [
    {
     "name": "stderr",
     "output_type": "stream",
     "text": [
      "Global seed set to 42\n"
     ]
    },
    {
     "data": {
      "text/plain": [
       "42"
      ]
     },
     "execution_count": 4,
     "metadata": {},
     "output_type": "execute_result"
    }
   ],
   "source": [
    "seed_everything(42, workers=True)"
   ]
  },
  {
   "cell_type": "code",
   "execution_count": null,
   "id": "e63a75d0-df1e-4a7e-80e0-1e86d62fab9b",
   "metadata": {},
   "outputs": [],
   "source": [
    "class Model(pl.LightningModule):\n",
    "    \"\"\"\n",
    "    Lightning model\n",
    "    \"\"\"\n",
    "    def __init__(\n",
    "        self, model_name, \n",
    "        num_classes, \n",
    "        lr=0.001, max_iter=20\n",
    "    ):\n",
    "        super().__init__()\n",
    "        self.model = timm.create_model(\n",
    "            model_name=model_name, \n",
    "            pretrained=True, \n",
    "            num_classes=num_classes\n",
    "        )\n",
    "        self.metric = torchmetrics.Accuracy()\n",
    "        self.loss = torch.nn.CrossEntropyLoss()\n",
    "        self.lr = lr\n",
    "        self.max_iter = max_iter\n",
    "        \n",
    "    def forward(self, x):\n",
    "        return self.model(x)\n",
    "    \n",
    "    def shared_step(self, batch, batch_idx):\n",
    "        x, y = batch\n",
    "        logits = self(x)\n",
    "        loss = self.loss(logits, y)\n",
    "        preds = torch.argmax(logits, dim=1)\n",
    "        self.metric(preds, y)\n",
    "        \n",
    "        return loss\n",
    "    \n",
    "    def training_step(self, batch, batch_idx):\n",
    "        loss = self.shared_step(batch, batch_idx)\n",
    "        self.log('train_loss', loss, on_step=True, on_epoch=True, logger=True, prog_bar=True)\n",
    "        self.log('train_acc', self.metric, on_epoch=True, logger=True, prog_bar=True)\n",
    "        \n",
    "        return loss\n",
    "    \n",
    "    def validation_step(self, batch, batch_idx):\n",
    "        loss = self.shared_step(batch, batch_idx)\n",
    "        self.log('val_loss', loss, on_step=True, on_epoch=True, logger=True, prog_bar=True)\n",
    "        self.log('val_acc', self.metric, on_epoch=True, logger=True, prog_bar=True)\n",
    "        \n",
    "        return loss\n",
    "    \n",
    "    def configure_optimizers(self):\n",
    "        optim = torch.optim.Adam(self.model.parameters(), lr=self.lr)\n",
    "        scheduler = torch.optim.lr_scheduler.CosineAnnealingLR(optimizer=optim, T_max=self.max_iter)\n",
    "        \n",
    "        return [optim], [scheduler]"
   ]
  },
  {
   "cell_type": "code",
   "execution_count": 9,
   "id": "bd037195-594f-424a-8ba3-120098779e67",
   "metadata": {},
   "outputs": [],
   "source": [
    "cifar_dataset = cifar_10.CifarDataset()"
   ]
  },
  {
   "cell_type": "code",
   "execution_count": 10,
   "id": "55ca4472-a2f1-485e-a126-2d55811d9a1c",
   "metadata": {},
   "outputs": [
    {
     "data": {
      "text/plain": [
       "10"
      ]
     },
     "execution_count": 10,
     "metadata": {},
     "output_type": "execute_result"
    }
   ],
   "source": [
    "classes = cifar_dataset.classes\n",
    "len(classes)"
   ]
  },
  {
   "cell_type": "code",
   "execution_count": 12,
   "id": "0a3fa30c-190f-4261-a7a2-b750f3cadf49",
   "metadata": {},
   "outputs": [],
   "source": [
    "model = Model(\n",
    "    model_name=\"vit_tiny_patch16_224\", \n",
    "    num_classes=len(classes), \n",
    "    lr=0.001, \n",
    "    max_iter=10,\n",
    ")"
   ]
  },
  {
   "cell_type": "code",
   "execution_count": 17,
   "id": "9a060ba4-9ece-404f-8584-7bdf1f09753e",
   "metadata": {},
   "outputs": [],
   "source": [
    "import torchsummary"
   ]
  },
  {
   "cell_type": "code",
   "execution_count": 21,
   "id": "81b2fd0c-722e-4e2a-a9f5-1fd90f47ae91",
   "metadata": {},
   "outputs": [
    {
     "name": "stdout",
     "output_type": "stream",
     "text": [
      "==========================================================================================\n",
      "Layer (type:depth-idx)                   Output Shape              Param #\n",
      "==========================================================================================\n",
      "├─VisionTransformer: 1-1                 [-1, 10]                  --\n",
      "|    └─PatchEmbed: 2-1                   [-1, 196, 192]            --\n",
      "|    |    └─Conv2d: 3-1                  [-1, 192, 14, 14]         147,648\n",
      "|    |    └─Identity: 3-2                [-1, 196, 192]            --\n",
      "|    └─Dropout: 2-2                      [-1, 197, 192]            --\n",
      "|    └─Sequential: 2-3                   [-1, 197, 192]            --\n",
      "|    |    └─Block: 3-3                   [-1, 197, 192]            444,864\n",
      "|    |    └─Block: 3-4                   [-1, 197, 192]            444,864\n",
      "|    |    └─Block: 3-5                   [-1, 197, 192]            444,864\n",
      "|    |    └─Block: 3-6                   [-1, 197, 192]            444,864\n",
      "|    |    └─Block: 3-7                   [-1, 197, 192]            444,864\n",
      "|    |    └─Block: 3-8                   [-1, 197, 192]            444,864\n",
      "|    |    └─Block: 3-9                   [-1, 197, 192]            444,864\n",
      "|    |    └─Block: 3-10                  [-1, 197, 192]            444,864\n",
      "|    |    └─Block: 3-11                  [-1, 197, 192]            444,864\n",
      "|    |    └─Block: 3-12                  [-1, 197, 192]            444,864\n",
      "|    |    └─Block: 3-13                  [-1, 197, 192]            444,864\n",
      "|    |    └─Block: 3-14                  [-1, 197, 192]            444,864\n",
      "|    └─LayerNorm: 2-4                    [-1, 197, 192]            384\n",
      "|    └─Identity: 2-5                     [-1, 192]                 --\n",
      "|    └─Linear: 2-6                       [-1, 10]                  1,930\n",
      "==========================================================================================\n",
      "Total params: 5,488,330\n",
      "Trainable params: 5,488,330\n",
      "Non-trainable params: 0\n",
      "Total mult-adds (M): 50.45\n",
      "==========================================================================================\n",
      "Input size (MB): 0.57\n",
      "Forward/backward pass size (MB): 7.50\n",
      "Params size (MB): 20.94\n",
      "Estimated Total Size (MB): 29.01\n",
      "==========================================================================================\n"
     ]
    }
   ],
   "source": [
    "_ = torchsummary.torchsummary.summary(model, torch.rand(1, 3, 224, 224))"
   ]
  },
  {
   "cell_type": "code",
   "execution_count": 23,
   "id": "4029a498-92df-4e1f-ae64-faa7fe90f759",
   "metadata": {},
   "outputs": [],
   "source": [
    "checkpoint_callback = ModelCheckpoint(\n",
    "    monitor='val_loss',\n",
    "    dirpath='./checkpoints',\n",
    "    filename='vit_tpytorch_lightning6_224-cifar10-{epoch:02d}-{val_loss:.2f}-{val_acc:.2f}'\n",
    ")"
   ]
  },
  {
   "cell_type": "code",
   "execution_count": 27,
   "id": "9e1ae318-1d5a-483d-88a1-65d871b0497f",
   "metadata": {},
   "outputs": [
    {
     "name": "stderr",
     "output_type": "stream",
     "text": [
      "/Users/muhsin/opt/anaconda3/envs/panptic_seg/lib/python3.8/site-packages/pytorch_lightning/trainer/connectors/callback_connector.py:64: LightningDeprecationWarning: Setting `Trainer(stochastic_weight_avg=True)` is deprecated in v1.5 and will be removed in v1.7. Please pass `pytorch_lightning.callbacks.stochastic_weight_avg.StochasticWeightAveraging` directly to the Trainer's `callbacks` argument instead.\n",
      "  rank_zero_deprecation(\n",
      "GPU available: False, used: False\n",
      "TPU available: False, using: 0 TPU cores\n",
      "IPU available: False, using: 0 IPUs\n",
      "HPU available: False, using: 0 HPUs\n"
     ]
    }
   ],
   "source": [
    "trainer = Trainer(\n",
    "    deterministic=True, \n",
    "    logger=False, \n",
    "    callbacks=[\n",
    "        checkpoint_callback,\n",
    "        #pl.callbacks.stochastic_weight_avg.StochasticWeightAveraging\n",
    "    ], \n",
    "    # gpus=[0], # change it based on gpu or cpu availability\n",
    "    max_epochs=1, \n",
    "    stochastic_weight_avg=True\n",
    ")"
   ]
  },
  {
   "cell_type": "code",
   "execution_count": null,
   "id": "5ab7e65e-0b60-4f24-9ac7-03b6592cbe4b",
   "metadata": {},
   "outputs": [
    {
     "name": "stdout",
     "output_type": "stream",
     "text": [
      "Downloading https://www.cs.toronto.edu/~kriz/cifar-10-python.tar.gz to ./data/cifar-10-python.tar.gz\n"
     ]
    },
    {
     "data": {
      "application/vnd.jupyter.widget-view+json": {
       "model_id": "c54754c9ec504a25bf8d4de629229d8c",
       "version_major": 2,
       "version_minor": 0
      },
      "text/plain": [
       "  0%|          | 0/170498071 [00:00<?, ?it/s]"
      ]
     },
     "metadata": {},
     "output_type": "display_data"
    },
    {
     "name": "stdout",
     "output_type": "stream",
     "text": [
      "Extracting ./data/cifar-10-python.tar.gz to ./data\n",
      "Files already downloaded and verified\n"
     ]
    },
    {
     "name": "stderr",
     "output_type": "stream",
     "text": [
      "\n",
      "  | Name   | Type              | Params\n",
      "---------------------------------------------\n",
      "0 | model  | VisionTransformer | 5.5 M \n",
      "1 | metric | Accuracy          | 0     \n",
      "2 | loss   | CrossEntropyLoss  | 0     \n",
      "---------------------------------------------\n",
      "5.5 M     Trainable params\n",
      "0         Non-trainable params\n",
      "5.5 M     Total params\n",
      "22.105    Total estimated model params size (MB)\n"
     ]
    },
    {
     "data": {
      "application/vnd.jupyter.widget-view+json": {
       "model_id": "",
       "version_major": 2,
       "version_minor": 0
      },
      "text/plain": [
       "Sanity Checking: 0it [00:00, ?it/s]"
      ]
     },
     "metadata": {},
     "output_type": "display_data"
    },
    {
     "data": {
      "application/vnd.jupyter.widget-view+json": {
       "model_id": "6d6622ce08004e56beb3cae2391bd904",
       "version_major": 2,
       "version_minor": 0
      },
      "text/plain": [
       "Training: 0it [00:00, ?it/s]"
      ]
     },
     "metadata": {},
     "output_type": "display_data"
    },
    {
     "name": "stderr",
     "output_type": "stream",
     "text": [
      "Swapping scheduler `CosineAnnealingLR` for `SWALR`\n",
      "Exception ignored in: <function _MultiProcessingDataLoaderIter.__del__ at 0x7fcf89449f70>\n",
      "Traceback (most recent call last):\n",
      "  File \"/Users/muhsin/opt/anaconda3/envs/panptic_seg/lib/python3.8/site-packages/torch/utils/data/dataloader.py\", line 1481, in __del__\n",
      "    self._shutdown_workers()\n",
      "  File \"/Users/muhsin/opt/anaconda3/envs/panptic_seg/lib/python3.8/site-packages/torch/utils/data/dataloader.py\", line 1445, in _shutdown_workers\n",
      "    w.join(timeout=_utils.MP_STATUS_CHECK_INTERVAL)\n",
      "  File \"/Users/muhsin/opt/anaconda3/envs/panptic_seg/lib/python3.8/multiprocessing/process.py\", line 149, in join\n",
      "    res = self._popen.wait(timeout)\n",
      "  File \"/Users/muhsin/opt/anaconda3/envs/panptic_seg/lib/python3.8/multiprocessing/popen_fork.py\", line 44, in wait\n",
      "    if not wait([self.sentinel], timeout):\n",
      "  File \"/Users/muhsin/opt/anaconda3/envs/panptic_seg/lib/python3.8/multiprocessing/connection.py\", line 931, in wait\n",
      "    ready = selector.select(timeout)\n",
      "  File \"/Users/muhsin/opt/anaconda3/envs/panptic_seg/lib/python3.8/selectors.py\", line 415, in select\n",
      "    fd_event_list = self._selector.poll(timeout)\n",
      "KeyboardInterrupt: \n"
     ]
    }
   ],
   "source": [
    "trainer.fit(\n",
    "    model=model, \n",
    "    datamodule=cifar_dataset,\n",
    ")"
   ]
  },
  {
   "cell_type": "code",
   "execution_count": null,
   "id": "80582be5-e2d6-4cb6-b166-648dedbeb2ec",
   "metadata": {},
   "outputs": [],
   "source": []
  },
  {
   "cell_type": "code",
   "execution_count": null,
   "id": "635444c4-ad4c-4821-a8bf-69a412f26960",
   "metadata": {},
   "outputs": [],
   "source": []
  },
  {
   "cell_type": "code",
   "execution_count": null,
   "id": "325aa156-cebb-4e41-a17b-b6014b6c8d2b",
   "metadata": {},
   "outputs": [],
   "source": []
  },
  {
   "cell_type": "code",
   "execution_count": null,
   "id": "041e2149-069e-49c8-a365-596b9f3c4afc",
   "metadata": {},
   "outputs": [],
   "source": []
  }
 ],
 "metadata": {
  "kernelspec": {
   "display_name": "Python [conda env:panptic_seg]",
   "language": "python",
   "name": "conda-env-panptic_seg-py"
  },
  "language_info": {
   "codemirror_mode": {
    "name": "ipython",
    "version": 3
   },
   "file_extension": ".py",
   "mimetype": "text/x-python",
   "name": "python",
   "nbconvert_exporter": "python",
   "pygments_lexer": "ipython3",
   "version": "3.8.13"
  }
 },
 "nbformat": 4,
 "nbformat_minor": 5
}
