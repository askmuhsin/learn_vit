{
 "cells": [
  {
   "cell_type": "code",
   "execution_count": 1,
   "id": "2a1daacf-249e-4995-ad8f-a1b893df87af",
   "metadata": {},
   "outputs": [],
   "source": [
    "%load_ext autoreload\n",
    "%autoreload 2"
   ]
  },
  {
   "cell_type": "code",
   "execution_count": 2,
   "id": "18ab3f71-ec7d-4732-b615-8631ee489d9e",
   "metadata": {},
   "outputs": [],
   "source": [
    "import os\n",
    "import sys\n",
    "\n",
    "sys.path.append(os.path.abspath('../'))"
   ]
  },
  {
   "cell_type": "code",
   "execution_count": 3,
   "id": "2885fc00-47b6-4fae-b27e-49f98243bb9c",
   "metadata": {},
   "outputs": [],
   "source": [
    "import pytorch_lightning as pl\n",
    "\n",
    "from my_trainer.datasets import cifar_10\n",
    "from my_trainer.models.model import Model\n",
    "from my_trainer.models.net_1 import Net"
   ]
  },
  {
   "cell_type": "code",
   "execution_count": 7,
   "id": "c7fcff98-dccd-4b35-875d-262c7bcc8e2c",
   "metadata": {},
   "outputs": [],
   "source": [
    "cifar_dataset = cifar_10.CifarDataset()\n",
    "network = Net()\n",
    "net = Model(network)"
   ]
  },
  {
   "cell_type": "code",
   "execution_count": 8,
   "id": "9da0e555-651f-4ffc-ad78-7abab04aef04",
   "metadata": {},
   "outputs": [
    {
     "name": "stderr",
     "output_type": "stream",
     "text": [
      "GPU available: False, used: False\n",
      "TPU available: False, using: 0 TPU cores\n",
      "IPU available: False, using: 0 IPUs\n",
      "HPU available: False, using: 0 HPUs\n"
     ]
    }
   ],
   "source": [
    "csv_logger = pl.loggers.CSVLogger(save_dir='./logs', name='default')\n",
    "trainer = pl.Trainer(\n",
    "    max_epochs=1, \n",
    "    logger=csv_logger,\n",
    "    # accelerator='gpu', devices=1\n",
    ")"
   ]
  },
  {
   "cell_type": "code",
   "execution_count": 9,
   "id": "d52523e1-70e6-49bf-8950-086db4d4821c",
   "metadata": {},
   "outputs": [
    {
     "name": "stdout",
     "output_type": "stream",
     "text": [
      "Files already downloaded and verified\n",
      "Files already downloaded and verified\n"
     ]
    },
    {
     "name": "stderr",
     "output_type": "stream",
     "text": [
      "\n",
      "  | Name      | Type             | Params\n",
      "-----------------------------------------------\n",
      "0 | model     | Net              | 62.0 K\n",
      "1 | criterion | CrossEntropyLoss | 0     \n",
      "-----------------------------------------------\n",
      "62.0 K    Trainable params\n",
      "0         Non-trainable params\n",
      "62.0 K    Total params\n",
      "0.248     Total estimated model params size (MB)\n"
     ]
    },
    {
     "data": {
      "application/vnd.jupyter.widget-view+json": {
       "model_id": "",
       "version_major": 2,
       "version_minor": 0
      },
      "text/plain": [
       "Sanity Checking: 0it [00:00, ?it/s]"
      ]
     },
     "metadata": {},
     "output_type": "display_data"
    },
    {
     "data": {
      "application/vnd.jupyter.widget-view+json": {
       "model_id": "dd117d7cd8c848948a8be26280ce5ed7",
       "version_major": 2,
       "version_minor": 0
      },
      "text/plain": [
       "Training: 0it [00:00, ?it/s]"
      ]
     },
     "metadata": {},
     "output_type": "display_data"
    },
    {
     "data": {
      "application/vnd.jupyter.widget-view+json": {
       "model_id": "",
       "version_major": 2,
       "version_minor": 0
      },
      "text/plain": [
       "Validation: 0it [00:00, ?it/s]"
      ]
     },
     "metadata": {},
     "output_type": "display_data"
    }
   ],
   "source": [
    "trainer.fit(net, datamodule=cifar_dataset)"
   ]
  },
  {
   "cell_type": "code",
   "execution_count": null,
   "id": "767b6601-3fc8-4e09-b18b-79f72e5f0baf",
   "metadata": {},
   "outputs": [],
   "source": []
  },
  {
   "cell_type": "code",
   "execution_count": null,
   "id": "b673cfd7-567d-4bff-844d-b936d04533fb",
   "metadata": {},
   "outputs": [],
   "source": []
  }
 ],
 "metadata": {
  "kernelspec": {
   "display_name": "Python [conda env:panptic_seg]",
   "language": "python",
   "name": "conda-env-panptic_seg-py"
  },
  "language_info": {
   "codemirror_mode": {
    "name": "ipython",
    "version": 3
   },
   "file_extension": ".py",
   "mimetype": "text/x-python",
   "name": "python",
   "nbconvert_exporter": "python",
   "pygments_lexer": "ipython3",
   "version": "3.8.13"
  }
 },
 "nbformat": 4,
 "nbformat_minor": 5
}
